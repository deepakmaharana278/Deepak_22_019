{
  "nbformat": 4,
  "nbformat_minor": 0,
  "metadata": {
    "colab": {
      "provenance": [],
      "authorship_tag": "ABX9TyNC7oJBYWk5Ee7fRCBPBTIW",
      "include_colab_link": true
    },
    "kernelspec": {
      "name": "python3",
      "display_name": "Python 3"
    },
    "language_info": {
      "name": "python"
    }
  },
  "cells": [
    {
      "cell_type": "markdown",
      "metadata": {
        "id": "view-in-github",
        "colab_type": "text"
      },
      "source": [
        "<a href=\"https://colab.research.google.com/github/deepakmaharana278/Deepak_22_019/blob/main/Deepak.ipynb\" target=\"_parent\"><img src=\"https://colab.research.google.com/assets/colab-badge.svg\" alt=\"Open In Colab\"/></a>"
      ]
    },
    {
      "cell_type": "code",
      "execution_count": null,
      "metadata": {
        "colab": {
          "base_uri": "https://localhost:8080/"
        },
        "id": "hVn0Xev2ICog",
        "outputId": "0c48b9d7-2029-47be-c1a9-19e18c26b531"
      },
      "outputs": [
        {
          "output_type": "stream",
          "name": "stdout",
          "text": [
            "['apple', 'cherry', 'banana', 'orenge '] <class 'int'>\n",
            "apple\n",
            "4\n"
          ]
        }
      ],
      "source": [
        "list =  [ \"apple\" , \"cherry\" , \"banana\" , \"orenge \" ]\n",
        "print((list),(type(2)))\n",
        "print(list[0])\n",
        "print(len(list))"
      ]
    },
    {
      "cell_type": "code",
      "source": [
        "list1= [\"Deepak\",\"priyanshu\",\"jahir\"]\n",
        "list2=[\"19\",\"20\",\"30\"]\n",
        "list3=[\"True\",\"False\",\"True\"]\n",
        "print(list1)\n",
        "print(list2)\n",
        "print(list3)"
      ],
      "metadata": {
        "colab": {
          "base_uri": "https://localhost:8080/"
        },
        "id": "f-TxqfB2rW0P",
        "outputId": "16979e25-06a8-40a7-fd7b-cb011be1f7c2"
      },
      "execution_count": null,
      "outputs": [
        {
          "output_type": "stream",
          "name": "stdout",
          "text": [
            "['Deepak', 'priyanshu', 'jahir']\n",
            "['10', '20', '30']\n",
            "['True', 'False', 'True']\n"
          ]
        }
      ]
    },
    {
      "cell_type": "code",
      "source": [
        "list=[\"Deepak\",\"19\",\"True\"]\n",
        "print(list)"
      ],
      "metadata": {
        "colab": {
          "base_uri": "https://localhost:8080/"
        },
        "id": "7BaG4SPfsnVY",
        "outputId": "b3985fa2-73f3-4d27-f574-cb567d210bdd"
      },
      "execution_count": null,
      "outputs": [
        {
          "output_type": "stream",
          "name": "stdout",
          "text": [
            "['Deepak', '19', 'True']\n"
          ]
        }
      ]
    },
    {
      "cell_type": "code",
      "source": [
        "list = [\"Deepak\",\"19\",\"True\"]\n",
        "print(list[-1])\n"
      ],
      "metadata": {
        "colab": {
          "base_uri": "https://localhost:8080/"
        },
        "id": "1N-EmRl_s382",
        "outputId": "2fa2e2fd-a72a-4279-8df9-bbde931d3641"
      },
      "execution_count": null,
      "outputs": [
        {
          "output_type": "stream",
          "name": "stdout",
          "text": [
            "True\n"
          ]
        }
      ]
    },
    {
      "cell_type": "code",
      "source": [
        "list = [\"A\",\"B\",\"c\"]\n",
        "if 'B' in  list:\n",
        "  print(\"yes it is  in the list\",list[1])"
      ],
      "metadata": {
        "colab": {
          "base_uri": "https://localhost:8080/"
        },
        "id": "nWKxzl_FwxVJ",
        "outputId": "6c7b6b40-e0e0-47f8-80e5-ce8d62fc8a4d"
      },
      "execution_count": null,
      "outputs": [
        {
          "output_type": "stream",
          "name": "stdout",
          "text": [
            "yes it is  in the list B\n"
          ]
        }
      ]
    },
    {
      "cell_type": "code",
      "source": [
        "list =[\"Deepak\",\"maharana\"]\n",
        "list[1] = 'boss'\n",
        "print(list)"
      ],
      "metadata": {
        "colab": {
          "base_uri": "https://localhost:8080/"
        },
        "id": "GcnMQ2Mu4asG",
        "outputId": "4fc2c079-e5a5-4124-efd7-35f6b241e062"
      },
      "execution_count": null,
      "outputs": [
        {
          "output_type": "stream",
          "name": "stdout",
          "text": [
            "['Deepak', 'boss']\n"
          ]
        }
      ]
    },
    {
      "cell_type": "code",
      "source": [
        "list = ['a','b','c','d']\n",
        "list.insert(2,'r')\n",
        "print(list)"
      ],
      "metadata": {
        "colab": {
          "base_uri": "https://localhost:8080/"
        },
        "id": "cB0xnOKK6jAF",
        "outputId": "4d6762f1-d54d-480c-eace-60d2454648e9"
      },
      "execution_count": null,
      "outputs": [
        {
          "output_type": "stream",
          "name": "stdout",
          "text": [
            "['a', 'b', 'r', 'c', 'd']\n"
          ]
        }
      ]
    },
    {
      "cell_type": "code",
      "source": [
        "list =['a','b','c','d']\n",
        "list.append('r')\n",
        "print(list)"
      ],
      "metadata": {
        "colab": {
          "base_uri": "https://localhost:8080/"
        },
        "id": "rCcc4bhm8a5U",
        "outputId": "51f84578-e792-4454-b78f-36f7bd710b5b"
      },
      "execution_count": null,
      "outputs": [
        {
          "output_type": "stream",
          "name": "stdout",
          "text": [
            "['a', 'b', 'c', 'd', 'r']\n"
          ]
        }
      ]
    },
    {
      "cell_type": "code",
      "source": [
        "list =['a','b','c','d']\n",
        "list.extend([1])\n",
        "print(list)"
      ],
      "metadata": {
        "colab": {
          "base_uri": "https://localhost:8080/"
        },
        "id": "A6ZtlYOY8t05",
        "outputId": "0972fe42-37ee-42da-ae0c-d521c56899ab"
      },
      "execution_count": null,
      "outputs": [
        {
          "output_type": "stream",
          "name": "stdout",
          "text": [
            "['a', 'b', 'c', 'd', 1]\n"
          ]
        }
      ]
    },
    {
      "cell_type": "code",
      "source": [
        "list =['a','b','c','d']\n",
        "list.remove('a')\n",
        "print(list)"
      ],
      "metadata": {
        "colab": {
          "base_uri": "https://localhost:8080/"
        },
        "id": "5twbwBEs929d",
        "outputId": "c8179638-0c25-49f6-be15-cb0f1db47662"
      },
      "execution_count": null,
      "outputs": [
        {
          "output_type": "stream",
          "name": "stdout",
          "text": [
            "['b', 'c', 'd']\n"
          ]
        }
      ]
    },
    {
      "cell_type": "code",
      "source": [
        "list =['a','b','c','d']\n",
        "list.pop(1)\n",
        "print(list)"
      ],
      "metadata": {
        "colab": {
          "base_uri": "https://localhost:8080/"
        },
        "id": "iyd50oOx-O2T",
        "outputId": "d7003c73-6303-46fd-a91a-d3a4528d98ed"
      },
      "execution_count": null,
      "outputs": [
        {
          "output_type": "stream",
          "name": "stdout",
          "text": [
            "['a', 'c', 'd']\n"
          ]
        }
      ]
    },
    {
      "cell_type": "code",
      "source": [
        "list = ['a','b','c','d']\n",
        "del list[2]\n",
        "print(list)"
      ],
      "metadata": {
        "colab": {
          "base_uri": "https://localhost:8080/"
        },
        "id": "DFlIGV0v-i7x",
        "outputId": "62c264ac-a0fe-4405-cd41-9a4bf5a2d77a"
      },
      "execution_count": null,
      "outputs": [
        {
          "output_type": "stream",
          "name": "stdout",
          "text": [
            "['a', 'b', 'd']\n"
          ]
        }
      ]
    },
    {
      "cell_type": "code",
      "source": [
        "list =['a','b','c','d']\n",
        "list.clear()\n",
        "print(list)"
      ],
      "metadata": {
        "colab": {
          "base_uri": "https://localhost:8080/"
        },
        "id": "VfyB8jnn_Lwd",
        "outputId": "ccbf8710-0783-48d6-fbbf-e752fc798872"
      },
      "execution_count": null,
      "outputs": [
        {
          "output_type": "stream",
          "name": "stdout",
          "text": [
            "[]\n"
          ]
        }
      ]
    },
    {
      "cell_type": "code",
      "source": [
        "list =['a','b','c','d']\n",
        "for i in list:\n",
        " print(i)"
      ],
      "metadata": {
        "colab": {
          "base_uri": "https://localhost:8080/"
        },
        "id": "1jcLFGYr_Xdo",
        "outputId": "48ddd810-36c6-49cb-a46f-b0443257ddbe"
      },
      "execution_count": null,
      "outputs": [
        {
          "output_type": "stream",
          "name": "stdout",
          "text": [
            "a\n",
            "b\n",
            "c\n",
            "d\n"
          ]
        }
      ]
    },
    {
      "cell_type": "code",
      "source": [
        "list = ['a', 'b', 'c', 'd']\n",
        "i = 0\n",
        "while(i<len(list)):\n",
        "  print(list[i])\n",
        "  i += 1"
      ],
      "metadata": {
        "colab": {
          "base_uri": "https://localhost:8080/"
        },
        "id": "rw-bHW7dAz6l",
        "outputId": "dfa6b3a3-06a0-4744-f821-70625757d432"
      },
      "execution_count": null,
      "outputs": [
        {
          "output_type": "stream",
          "name": "stdout",
          "text": [
            "a\n",
            "b\n",
            "c\n",
            "d\n"
          ]
        }
      ]
    },
    {
      "cell_type": "code",
      "source": [
        "unsorted_list = [2, 5, -3, 7, 99, 33, 71, 57]\n",
        "\n",
        "\n",
        "for i in range(len(unsorted_list)):\n",
        "    for j in range(i + 1, len(unsorted_list)):\n",
        "        if unsorted_list[i] > unsorted_list[j]:\n",
        "            unsorted_list[i], unsorted_list[j] = unsorted_list[j], unsorted_list[i]\n",
        "\n",
        "\n",
        "print(unsorted_list)"
      ],
      "metadata": {
        "colab": {
          "base_uri": "https://localhost:8080/"
        },
        "id": "rZKwUyC5y7mi",
        "outputId": "60eea535-643f-45bb-fcbd-1eb1ad2b5119"
      },
      "execution_count": null,
      "outputs": [
        {
          "output_type": "stream",
          "name": "stdout",
          "text": [
            "[-3, 2, 5, 7, 33, 57, 71, 99]\n"
          ]
        }
      ]
    },
    {
      "cell_type": "code",
      "source": [
        "import numpy as np\n",
        "data2 =[[1,2,3,4],[5,6,7,8]]\n",
        "arr2=np.array(data2)\n",
        "print(arr2.ndim)\n",
        "print(arr2.shape)"
      ],
      "metadata": {
        "colab": {
          "base_uri": "https://localhost:8080/"
        },
        "id": "i5Ad_0oz2OO8",
        "outputId": "3da5e5d0-ad09-49f8-e795-8aa8032ad308"
      },
      "execution_count": null,
      "outputs": [
        {
          "output_type": "stream",
          "name": "stdout",
          "text": [
            "2\n",
            "(2, 4)\n"
          ]
        }
      ]
    },
    {
      "cell_type": "code",
      "source": [
        "import numpy as np\n",
        "data2 =[[1,2,3,4],[5,6,7,8],[55,66,76,88]]\n",
        "arr2=np.array(data2)\n",
        "print(arr2.ndim)\n",
        "print(arr2.shape)\n",
        "print(arr2)"
      ],
      "metadata": {
        "colab": {
          "base_uri": "https://localhost:8080/"
        },
        "id": "sdGw-ad774ab",
        "outputId": "d037b15c-781c-467c-b2f1-74a84aeed515"
      },
      "execution_count": null,
      "outputs": [
        {
          "output_type": "stream",
          "name": "stdout",
          "text": [
            "2\n",
            "(3, 4)\n",
            "[[ 1  2  3  4]\n",
            " [ 5  6  7  8]\n",
            " [55 66 76 88]]\n"
          ]
        }
      ]
    },
    {
      "cell_type": "code",
      "source": [
        "import numpy as np\n",
        "data2 =[[1,2,3,4]]\n",
        "arr2=np.array(data2)\n",
        "print(arr2.ndim)\n",
        "print(arr2.shape)\n",
        "print(arr2)"
      ],
      "metadata": {
        "colab": {
          "base_uri": "https://localhost:8080/"
        },
        "id": "1gIchl1E83pY",
        "outputId": "ab9987e2-8dc8-43e0-9820-06e809088eed"
      },
      "execution_count": null,
      "outputs": [
        {
          "output_type": "stream",
          "name": "stdout",
          "text": [
            "2\n",
            "(1, 4)\n",
            "[[1 2 3 4]]\n"
          ]
        }
      ]
    },
    {
      "cell_type": "code",
      "source": [
        "ar=np.zeros((2,3))\n",
        "ar"
      ],
      "metadata": {
        "colab": {
          "base_uri": "https://localhost:8080/"
        },
        "id": "JMWC5_Yw97in",
        "outputId": "4d01eae0-ad18-4548-cfe6-066ca4a91715"
      },
      "execution_count": null,
      "outputs": [
        {
          "output_type": "execute_result",
          "data": {
            "text/plain": [
              "array([[0., 0., 0.],\n",
              "       [0., 0., 0.]])"
            ]
          },
          "metadata": {},
          "execution_count": 23
        }
      ]
    },
    {
      "cell_type": "code",
      "source": [
        "array=np.eye(4)\n",
        "array"
      ],
      "metadata": {
        "colab": {
          "base_uri": "https://localhost:8080/"
        },
        "id": "x48WDVHq-Xxt",
        "outputId": "fd203beb-957c-48b7-d9cc-a3cd5b8d3cc6"
      },
      "execution_count": null,
      "outputs": [
        {
          "output_type": "execute_result",
          "data": {
            "text/plain": [
              "array([[1., 0., 0., 0.],\n",
              "       [0., 1., 0., 0.],\n",
              "       [0., 0., 1., 0.],\n",
              "       [0., 0., 0., 1.]])"
            ]
          },
          "metadata": {},
          "execution_count": 25
        }
      ]
    },
    {
      "cell_type": "code",
      "source": [
        "array= np.arange(0,20,3)\n",
        "array"
      ],
      "metadata": {
        "colab": {
          "base_uri": "https://localhost:8080/"
        },
        "id": "KETIdCy4_G4z",
        "outputId": "86431d99-2cba-4baa-df43-5dab176ca110"
      },
      "execution_count": null,
      "outputs": [
        {
          "output_type": "execute_result",
          "data": {
            "text/plain": [
              "array([ 0,  3,  6,  9, 12, 15, 18])"
            ]
          },
          "metadata": {},
          "execution_count": 28
        }
      ]
    },
    {
      "cell_type": "code",
      "source": [
        "array=np.random.randint(0,10,(3,3))\n",
        "array"
      ],
      "metadata": {
        "colab": {
          "base_uri": "https://localhost:8080/"
        },
        "id": "Lk_33GfQ_uZQ",
        "outputId": "f4a78ee4-44a4-4b67-81f3-c8d76f88af6f"
      },
      "execution_count": null,
      "outputs": [
        {
          "output_type": "execute_result",
          "data": {
            "text/plain": [
              "array([[6, 5, 1],\n",
              "       [0, 5, 0],\n",
              "       [6, 0, 5]])"
            ]
          },
          "metadata": {},
          "execution_count": 29
        }
      ]
    },
    {
      "cell_type": "code",
      "source": [
        "arr = np.array([[1,2,3],[4,5,6]])\n",
        "print(arr)\n",
        "print(arr*arr)\n",
        "print(arr-arr)"
      ],
      "metadata": {
        "colab": {
          "base_uri": "https://localhost:8080/"
        },
        "id": "K1HL4Q4dAw_k",
        "outputId": "526ed9bc-98b5-4df1-a899-341c8cd9b277"
      },
      "execution_count": null,
      "outputs": [
        {
          "output_type": "stream",
          "name": "stdout",
          "text": [
            "[[1 2 3]\n",
            " [4 5 6]]\n",
            "[[ 1  4  9]\n",
            " [16 25 36]]\n",
            "[[0 0 0]\n",
            " [0 0 0]]\n"
          ]
        }
      ]
    },
    {
      "cell_type": "code",
      "source": [
        "array=np.random.randint(0,10,(4,4))\n",
        "array\n",
        "array1=array*5\n",
        "print(array1)\n",
        "array2=array1-array\n",
        "print(array2)"
      ],
      "metadata": {
        "colab": {
          "base_uri": "https://localhost:8080/"
        },
        "id": "WJenOvSHDmGW",
        "outputId": "abd3dcaa-fddb-4ee9-8215-7c7263bca255"
      },
      "execution_count": null,
      "outputs": [
        {
          "output_type": "stream",
          "name": "stdout",
          "text": [
            "[[10 40 25  0]\n",
            " [ 0 25 20 40]\n",
            " [40 40 40 40]\n",
            " [35 45 40 20]]\n",
            "[[ 8 32 20  0]\n",
            " [ 0 20 16 32]\n",
            " [32 32 32 32]\n",
            " [28 36 32 16]]\n"
          ]
        }
      ]
    },
    {
      "cell_type": "code",
      "source": [
        "arr =np.array([[1,2,3],[4,5,6]])\n",
        "print(arr)\n",
        "print(arr**2)\n",
        "\n",
        "arr2=np.array([[0,4,1],[7,2,12]])\n",
        "print(arr2)\n",
        "print(arr2>arr)"
      ],
      "metadata": {
        "colab": {
          "base_uri": "https://localhost:8080/"
        },
        "id": "DPOiiDbxByV1",
        "outputId": "cda5d316-7c52-469d-deba-7707d7e45ade"
      },
      "execution_count": null,
      "outputs": [
        {
          "output_type": "stream",
          "name": "stdout",
          "text": [
            "[[1 2 3]\n",
            " [4 5 6]]\n",
            "[[ 1  4  9]\n",
            " [16 25 36]]\n",
            "[[ 0  4  1]\n",
            " [ 7  2 12]]\n",
            "[[False  True False]\n",
            " [ True False  True]]\n"
          ]
        }
      ]
    },
    {
      "cell_type": "code",
      "source": [
        "import numpy as np\n",
        "\n",
        "print('enter row size')\n",
        "r = int(input())\n",
        "print('enter coloumn size')\n",
        "c = int(input())\n",
        "\n",
        "\n",
        "arr = np.random.randint(0, 50, size=(r, c))\n",
        "\n",
        "\n",
        "print(arr)"
      ],
      "metadata": {
        "colab": {
          "base_uri": "https://localhost:8080/"
        },
        "id": "dyH_VHiGOSEK",
        "outputId": "9b6464bc-981e-4c12-c464-604bdd61bf9d"
      },
      "execution_count": null,
      "outputs": [
        {
          "output_type": "stream",
          "name": "stdout",
          "text": [
            "enter row size\n",
            "3\n",
            "enter coloumn size\n",
            "3\n",
            "[[32 19 32]\n",
            " [28 32 20]\n",
            " [ 1 29 48]]\n"
          ]
        }
      ]
    }
  ]
}